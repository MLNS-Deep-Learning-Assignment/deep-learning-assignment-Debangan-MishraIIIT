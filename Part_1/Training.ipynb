{
 "cells": [
  {
   "cell_type": "code",
   "execution_count": 1,
   "metadata": {},
   "outputs": [],
   "source": [
    "import random\n",
    "import numpy as np\n",
    "import torch\n",
    "import torch.nn as nn\n",
    "import torch.nn.functional as F\n",
    "import torch.optim as optim\n",
    "from dataloader import get_loaders\n",
    "from models import CNNRegressor, CNNClassifier, VGGRegressor"
   ]
  },
  {
   "cell_type": "code",
   "execution_count": 2,
   "metadata": {},
   "outputs": [],
   "source": [
    "def seed_everything(seed: int):\n",
    "    random.seed(seed)\n",
    "    np.random.seed(seed)\n",
    "    torch.manual_seed(seed)\n",
    "    torch.cuda.manual_seed(seed)\n",
    "    torch.cuda.manual_seed_all(seed)"
   ]
  },
  {
   "cell_type": "code",
   "execution_count": 3,
   "metadata": {},
   "outputs": [
    {
     "name": "stdout",
     "output_type": "stream",
     "text": [
      "Directory 'trained_models' already exists.\n"
     ]
    }
   ],
   "source": [
    "import os\n",
    "directory = \"trained_models\"\n",
    "if not os.path.exists(directory):\n",
    "    os.makedirs(directory)\n",
    "    print(f\"Directory '{directory}' created.\")\n",
    "else:\n",
    "    print(f\"Directory '{directory}' already exists.\")"
   ]
  },
  {
   "cell_type": "markdown",
   "metadata": {},
   "source": [
    "### Regressor Modelling\n",
    "\n",
    "The given task is such that we are given an input image, and we are predicting the sum of the numbers represented in the image. If there is no guarantee as to whether the test set contains exactly 4 numbers, the typical classifier approach will likely fail. As a result, we can modify the network to act as a regressor with a single output and the output value being rounded to get an integer representation. Hence, during training, the model will use MSE Loss (typically used for regression tasks) and will round the number to closest integer during inference to calculate accuracy. \n",
    "\n",
    "Note that as a result of this approach, a low MSE Loss need not translate to a good accuracy. Consider for example, our model predicts 24.6 as an output while the ground truth is 24. In this case, the MSE Loss will be low, but the accuracy need not be as rounding changes the output. Also note that it is not possible to train the model based on rounded outputs as rounding is a step function with zero gradient almost everywhere making it useless for learning. "
   ]
  },
  {
   "cell_type": "code",
   "execution_count": 4,
   "metadata": {},
   "outputs": [],
   "source": [
    "def train_model(train_loader, val_loader, model, criterion, optimizer, epochs, device, type=\"regressor\"):\n",
    "    for epoch in range(epochs):\n",
    "        model.train()\n",
    "        train_loss = 0.0\n",
    "        for images, labels in train_loader:\n",
    "            images, labels = images.to(device), labels.to(device)\n",
    "            optimizer.zero_grad()\n",
    "            outputs = model(images)\n",
    "            if type==\"classifier\":\n",
    "                labels = labels.to(torch.long)\n",
    "\n",
    "            loss = criterion(outputs.squeeze(), labels)\n",
    "            loss.backward()\n",
    "            optimizer.step()\n",
    "            train_loss += loss.item()\n",
    "\n",
    "        val_acc = 0.0\n",
    "        model.eval()\n",
    "        with torch.no_grad():\n",
    "            for images, labels in val_loader:\n",
    "                images, labels = images.to(device), labels.to(device)\n",
    "                outputs = model(images)\n",
    "                if type==\"classifier\":\n",
    "                    outputs = F.softmax(outputs, dim=-1)\n",
    "                    outputs = torch.argmax(outputs, dim=1)\n",
    "                accuracy = (torch.sum(torch.round(outputs)==labels)*100/len(labels)).item()\n",
    "                val_acc += accuracy\n",
    "\n",
    "        print(f\"Epoch {epoch+1}/{epochs}, Train Loss: {train_loss/len(train_loader):.4f}, Val Accuracy: {val_acc/len(val_loader):.4f}\")"
   ]
  },
  {
   "cell_type": "code",
   "execution_count": 5,
   "metadata": {},
   "outputs": [],
   "source": [
    "# Hyperparameters\n",
    "device = \"cuda\" if torch.cuda.is_available() else \"cpu\"\n",
    "train_fraction = 0.8\n",
    "batch_size = 64\n",
    "seed = 42\n",
    "epochs = 15\n",
    "learning_rate = 1e-3\n",
    "seed_everything(seed)"
   ]
  },
  {
   "cell_type": "code",
   "execution_count": 6,
   "metadata": {},
   "outputs": [
    {
     "name": "stdout",
     "output_type": "stream",
     "text": [
      "Epoch 1/15, Train Loss: 34.8954, Val Accuracy: 7.8624\n",
      "Epoch 2/15, Train Loss: 21.6476, Val Accuracy: 9.5246\n",
      "Epoch 3/15, Train Loss: 15.8796, Val Accuracy: 10.4167\n",
      "Epoch 4/15, Train Loss: 12.8713, Val Accuracy: 11.4029\n",
      "Epoch 5/15, Train Loss: 11.0107, Val Accuracy: 11.9847\n",
      "Epoch 6/15, Train Loss: 9.5900, Val Accuracy: 11.7797\n",
      "Epoch 7/15, Train Loss: 8.7342, Val Accuracy: 9.1977\n",
      "Epoch 8/15, Train Loss: 8.6009, Val Accuracy: 12.7992\n",
      "Epoch 9/15, Train Loss: 7.5465, Val Accuracy: 11.7298\n",
      "Epoch 10/15, Train Loss: 7.2628, Val Accuracy: 11.5747\n",
      "Epoch 11/15, Train Loss: 6.6896, Val Accuracy: 10.0898\n",
      "Epoch 12/15, Train Loss: 5.4973, Val Accuracy: 12.2230\n",
      "Epoch 13/15, Train Loss: 6.7779, Val Accuracy: 12.1509\n",
      "Epoch 14/15, Train Loss: 6.1146, Val Accuracy: 11.8850\n",
      "Epoch 15/15, Train Loss: 4.6103, Val Accuracy: 11.7686\n"
     ]
    }
   ],
   "source": [
    "model = CNNRegressor().to(device)\n",
    "criterion = nn.MSELoss()\n",
    "optimizer = optim.Adam(model.parameters(), lr=learning_rate)\n",
    "\n",
    "train_loader, val_loader = get_loaders(train_fraction, batch_size, seed)\n",
    "train_model(train_loader, val_loader, model, criterion, optimizer, epochs, device)"
   ]
  },
  {
   "cell_type": "code",
   "execution_count": 7,
   "metadata": {},
   "outputs": [
    {
     "name": "stdout",
     "output_type": "stream",
     "text": [
      "Overall Accuracy of Regressor on Validation Split: 11.77%\n",
      "Overall Accuracy of Regressor on Training Split: 22.30%\n"
     ]
    }
   ],
   "source": [
    "## Calculating overall accuracy of the validation set\n",
    "model.eval()\n",
    "total_len = 0\n",
    "total_correct = 0\n",
    "with torch.no_grad():\n",
    "    for x, y in val_loader:\n",
    "        x, y = x.to(device), y.to(device)\n",
    "        outputs = model(x)\n",
    "        correct_count = (torch.sum(torch.round(outputs)==y)).item()\n",
    "        total_len += len(y)\n",
    "        total_correct += correct_count\n",
    "accuracy = (total_correct/total_len)*100\n",
    "print(f\"Overall Accuracy of Regressor on Validation Split: {accuracy:.2f}%\")\n",
    "\n",
    "total_len = 0\n",
    "total_correct = 0\n",
    "with torch.no_grad():\n",
    "    for x, y in train_loader:\n",
    "        x, y = x.to(device), y.to(device)\n",
    "        outputs = model(x)\n",
    "        correct_count = (torch.sum(torch.round(outputs)==y)).item()\n",
    "        total_len += len(y)\n",
    "        total_correct += correct_count\n",
    "accuracy = (total_correct/total_len)*100\n",
    "print(f\"Overall Accuracy of Regressor on Training Split: {accuracy:.2f}%\")"
   ]
  },
  {
   "cell_type": "code",
   "execution_count": 8,
   "metadata": {},
   "outputs": [],
   "source": [
    "torch.save(model.state_dict(), f\"./trained_models/cnnregressor_{seed}.pt\")"
   ]
  },
  {
   "cell_type": "markdown",
   "metadata": {},
   "source": [
    "### Classifier Modelling\n",
    "\n",
    "When we are assuming that the input image will always have 4 numbers as that is the only value appearing in the dataset. In that case, we can model the network as a classifier with the outputs ranging from 0 to 36. For this case, we can use the cross entropy loss which is commonly used for classification task. Empirically we observe that the model performance on the validation split is lower for the classifier than it is for the regressor. This might be because regression operates in the continuous space (just like the input) and this possibly allows for a smoother optimization. It is not possible to verify why the regressor works better than the classifier case. "
   ]
  },
  {
   "cell_type": "code",
   "execution_count": 9,
   "metadata": {},
   "outputs": [
    {
     "name": "stdout",
     "output_type": "stream",
     "text": [
      "Epoch 1/15, Train Loss: 3.1989, Val Accuracy: 6.6766\n",
      "Epoch 2/15, Train Loss: 3.0966, Val Accuracy: 7.7238\n",
      "Epoch 3/15, Train Loss: 2.9013, Val Accuracy: 8.5051\n",
      "Epoch 4/15, Train Loss: 2.7367, Val Accuracy: 9.0148\n",
      "Epoch 5/15, Train Loss: 2.5567, Val Accuracy: 8.8431\n",
      "Epoch 6/15, Train Loss: 2.3252, Val Accuracy: 8.3112\n",
      "Epoch 7/15, Train Loss: 2.0238, Val Accuracy: 8.1727\n",
      "Epoch 8/15, Train Loss: 1.7025, Val Accuracy: 7.7903\n",
      "Epoch 9/15, Train Loss: 1.3624, Val Accuracy: 7.1199\n",
      "Epoch 10/15, Train Loss: 1.0731, Val Accuracy: 7.9898\n",
      "Epoch 11/15, Train Loss: 0.8112, Val Accuracy: 7.7349\n",
      "Epoch 12/15, Train Loss: 0.6251, Val Accuracy: 7.5078\n",
      "Epoch 13/15, Train Loss: 0.5074, Val Accuracy: 7.1144\n",
      "Epoch 14/15, Train Loss: 0.4010, Val Accuracy: 7.3415\n",
      "Epoch 15/15, Train Loss: 0.3226, Val Accuracy: 7.5964\n"
     ]
    }
   ],
   "source": [
    "model = CNNClassifier().to(device)\n",
    "criterion = nn.CrossEntropyLoss()\n",
    "optimizer = optim.Adam(model.parameters(), lr=learning_rate)\n",
    "\n",
    "train_loader, val_loader = get_loaders(train_fraction, batch_size, seed)\n",
    "train_model(train_loader, val_loader, model, criterion, optimizer, epochs, device, type=\"classifier\")"
   ]
  },
  {
   "cell_type": "code",
   "execution_count": 10,
   "metadata": {},
   "outputs": [
    {
     "name": "stdout",
     "output_type": "stream",
     "text": [
      "Overall Accuracy of Classifer on Validation Split: 7.60%\n",
      "Overall Accuracy of Classifer on Training Split: 66.07%\n"
     ]
    }
   ],
   "source": [
    "## Calculating overall accuracy of the validation set\n",
    "model.eval()\n",
    "total_len = 0\n",
    "total_correct = 0\n",
    "with torch.no_grad():\n",
    "    for x, y in val_loader:\n",
    "        x, y = x.to(device), y.to(device)\n",
    "        outputs = model(x)\n",
    "        outputs = F.softmax(outputs, dim=-1)\n",
    "        outputs = torch.argmax(outputs, dim=1)\n",
    "        correct_count = (torch.sum(torch.round(outputs)==y)).item()\n",
    "        total_len += len(y)\n",
    "        total_correct += correct_count\n",
    "accuracy = (total_correct/total_len)*100\n",
    "print(f\"Overall Accuracy of Classifer on Validation Split: {accuracy:.2f}%\")\n",
    "\n",
    "total_len = 0\n",
    "total_correct = 0\n",
    "with torch.no_grad():\n",
    "    for x, y in train_loader:\n",
    "        x, y = x.to(device), y.to(device)\n",
    "        outputs = model(x)\n",
    "        outputs = F.softmax(outputs, dim=-1)\n",
    "        outputs = torch.argmax(outputs, dim=1)\n",
    "        correct_count = (torch.sum(torch.round(outputs)==y)).item()\n",
    "        total_len += len(y)\n",
    "        total_correct += correct_count\n",
    "accuracy = (total_correct/total_len)*100\n",
    "print(f\"Overall Accuracy of Classifer on Training Split: {accuracy:.2f}%\")"
   ]
  },
  {
   "cell_type": "code",
   "execution_count": 11,
   "metadata": {},
   "outputs": [],
   "source": [
    "torch.save(model.state_dict(), f\"./trained_models/cnnclassifier_{seed}.pt\")"
   ]
  },
  {
   "cell_type": "markdown",
   "metadata": {},
   "source": [
    "The same behaviour was observed across seeds (0, 10, 42), indicating a consistent behaviour. Also note that early stopping based on validation loss has not been implemented for the models (even though the validation accuracy is higher at some early stages) to ensure the train loss is sufficiently low. Training for further epochs leads to a decrease in the validation accuracy indicating overfitting. Hence, the number of epochs was chosen to be 15. Note that the training accuracy is very high for the classifier approach, but the validation is not, indicating a possibility that this approach is overfitting. "
   ]
  },
  {
   "cell_type": "markdown",
   "metadata": {},
   "source": [
    "### Transfer Learning With VGG\n",
    "\n",
    "Owing to the success of the regressor approach, a third type of network was created using transfer learning using VGG (a popular CNN network which achieves fairly high accuracy across various tasks). The convolutional backbone and the average pooling layers of the network are frozen and a classifier is added on top which has one output as the previous CNN regressor case. Note that a convolutional layer is also prepended to ensure that the MNIST dataset with one channel is compatible with the VGG network that is trained on 3 channel RGB images. This approach is computationally more expensive, but was tried out to see whether the pretraining of the VGG leads to better results.  "
   ]
  },
  {
   "cell_type": "code",
   "execution_count": null,
   "metadata": {},
   "outputs": [
    {
     "name": "stdout",
     "output_type": "stream",
     "text": [
      "Epoch 1/15, Train Loss: 37.5322, Val Accuracy: 7.9344\n",
      "Epoch 2/15, Train Loss: 28.4345, Val Accuracy: 8.3610\n",
      "Epoch 3/15, Train Loss: 27.7135, Val Accuracy: 8.6104\n",
      "Epoch 4/15, Train Loss: 26.6609, Val Accuracy: 8.8597\n",
      "Epoch 5/15, Train Loss: 26.2694, Val Accuracy: 8.3998\n",
      "Epoch 6/15, Train Loss: 25.7796, Val Accuracy: 8.8375\n",
      "Epoch 7/15, Train Loss: 25.2354, Val Accuracy: 9.4415\n",
      "Epoch 8/15, Train Loss: 25.5707, Val Accuracy: 9.2974\n",
      "Epoch 9/15, Train Loss: 24.5139, Val Accuracy: 9.1201\n",
      "Epoch 10/15, Train Loss: 24.7005, Val Accuracy: 9.1534\n",
      "Epoch 11/15, Train Loss: 24.3212, Val Accuracy: 9.2365\n"
     ]
    }
   ],
   "source": [
    "model = VGGRegressor().to(device)\n",
    "criterion = nn.MSELoss()\n",
    "optimizer = optim.Adam(model.parameters(), lr=learning_rate)\n",
    "\n",
    "train_loader, val_loader = get_loaders(train_fraction, batch_size, seed)\n",
    "train_model(train_loader, val_loader, model, criterion, optimizer, epochs, device)"
   ]
  },
  {
   "cell_type": "code",
   "execution_count": 8,
   "metadata": {},
   "outputs": [
    {
     "name": "stdout",
     "output_type": "stream",
     "text": [
      "Overall Accuracy of Regressor on Validation Split: 7.83%\n",
      "Overall Accuracy of Regressor on Training Split: 8.67%\n"
     ]
    }
   ],
   "source": [
    "## Calculating overall accuracy of the validation set\n",
    "model.eval()\n",
    "total_len = 0\n",
    "total_correct = 0\n",
    "with torch.no_grad():\n",
    "    for x, y in val_loader:\n",
    "        x, y = x.to(device), y.to(device)\n",
    "        outputs = model(x)\n",
    "        correct_count = (torch.sum(torch.round(outputs)==y)).item()\n",
    "        total_len += len(y)\n",
    "        total_correct += correct_count\n",
    "accuracy = (total_correct/total_len)*100\n",
    "print(f\"Overall Accuracy of Regressor on Validation Split: {accuracy:.2f}%\")\n",
    "\n",
    "total_len = 0\n",
    "total_correct = 0\n",
    "with torch.no_grad():\n",
    "    for x, y in train_loader:\n",
    "        x, y = x.to(device), y.to(device)\n",
    "        outputs = model(x)\n",
    "        correct_count = (torch.sum(torch.round(outputs)==y)).item()\n",
    "        total_len += len(y)\n",
    "        total_correct += correct_count\n",
    "accuracy = (total_correct/total_len)*100\n",
    "print(f\"Overall Accuracy of Regressor on Training Split: {accuracy:.2f}%\")"
   ]
  },
  {
   "cell_type": "code",
   "execution_count": 23,
   "metadata": {},
   "outputs": [],
   "source": [
    "torch.save(model.state_dict(), f\"./trained_models/vggregressor_{seed}.pt\")"
   ]
  },
  {
   "cell_type": "markdown",
   "metadata": {},
   "source": [
    "### Results Across Seeds\n",
    "\n",
    "#### Validation Accuracy\n",
    "\n",
    "| Seed | CNN Regressor | CNN Classifier | VGG Regressor |\n",
    "|------|---------------|----------------|---------------|\n",
    "| 0    | 11.42%        | 6.70%          | 10.23%        |\n",
    "| 10   | 10.92%        | 8.00%          | 7.83%         |\n",
    "| 42   | 10.65%        | 7.70%          | 9.12%         |\n",
    "\n",
    "#### Training Accuracy\n",
    "\n",
    "| Seed | CNN Regressor | CNN Classifier | VGG Regressor |\n",
    "|------|---------------|----------------|---------------|\n",
    "| 0    | 21.90%        | 52.36%         | 9.98%         |\n",
    "| 10   | 22.22%        | 76.92%         | 8.67%         |\n",
    "| 42   | 18.16%        | 68.08%         | 9.29%         |"
   ]
  }
 ],
 "metadata": {
  "kernelspec": {
   "display_name": "Python 3",
   "language": "python",
   "name": "python3"
  },
  "language_info": {
   "codemirror_mode": {
    "name": "ipython",
    "version": 3
   },
   "file_extension": ".py",
   "mimetype": "text/x-python",
   "name": "python",
   "nbconvert_exporter": "python",
   "pygments_lexer": "ipython3",
   "version": "3.12.3"
  }
 },
 "nbformat": 4,
 "nbformat_minor": 2
}
