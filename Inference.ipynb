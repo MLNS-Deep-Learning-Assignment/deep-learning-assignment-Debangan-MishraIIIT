{
 "cells": [
  {
   "cell_type": "code",
   "execution_count": 3,
   "metadata": {},
   "outputs": [],
   "source": [
    "import torch\n",
    "from models import CNNRegressor, CNNClassifier, VGGRegressor\n",
    "from dataloader import get_loaders"
   ]
  },
  {
   "cell_type": "code",
   "execution_count": 4,
   "metadata": {},
   "outputs": [],
   "source": [
    "def get_model(model_type, seed):\n",
    "    if model_type == \"CNNRegressor\":\n",
    "        model = CNNRegressor()\n",
    "        model_name = f\"trained_models/cnnregressor_{seed}.pt\"\n",
    "    elif model_type == \"CNNClassifier\":\n",
    "        model = CNNClassifier()\n",
    "        model_name = f\"trained_models/cnnlassifier_{seed}.pt\"\n",
    "    elif model_type == \"VGGRegressor\":\n",
    "        model = VGGRegressor()\n",
    "        model_name = f\"trained_models/vggregressor_{seed}.pt\"\n",
    "    model.load_state_dict(torch.load(model_name))\n",
    "    return model"
   ]
  },
  {
   "cell_type": "code",
   "execution_count": null,
   "metadata": {},
   "outputs": [],
   "source": [
    "device = \"cuda\" if torch.cuda.is_available() else \"cpu\"\n",
    "train_fraction = 0.8\n",
    "batch_size = 62\n",
    "seed = 42\n",
    "train_loader, val_loader = get_loaders(train_fraction, batch_size, seed)"
   ]
  },
  {
   "cell_type": "code",
   "execution_count": null,
   "metadata": {},
   "outputs": [
    {
     "data": {
      "text/plain": [
       "CNNRegressor(\n",
       "  (conv_layers): Sequential(\n",
       "    (0): Conv2d(1, 32, kernel_size=(3, 3), stride=(1, 1), padding=(1, 1))\n",
       "    (1): ReLU()\n",
       "    (2): MaxPool2d(kernel_size=2, stride=2, padding=0, dilation=1, ceil_mode=False)\n",
       "    (3): Conv2d(32, 64, kernel_size=(3, 3), stride=(1, 1), padding=(1, 1))\n",
       "    (4): ReLU()\n",
       "    (5): MaxPool2d(kernel_size=2, stride=2, padding=0, dilation=1, ceil_mode=False)\n",
       "  )\n",
       "  (fc_layers): Sequential(\n",
       "    (0): Flatten(start_dim=1, end_dim=-1)\n",
       "    (1): Linear(in_features=26880, out_features=256, bias=True)\n",
       "    (2): ReLU()\n",
       "    (3): Linear(in_features=256, out_features=128, bias=True)\n",
       "    (4): ReLU()\n",
       "    (5): Linear(in_features=128, out_features=1, bias=True)\n",
       "  )\n",
       ")"
      ]
     },
     "execution_count": 5,
     "metadata": {},
     "output_type": "execute_result"
    }
   ],
   "source": [
    "model_type = \"CNNRegressor\"\n",
    "model = get_model(model_type, seed)\n",
    "\n",
    "if model_type == \"CNNRegressor\" or \"VGGRegressor\":\n",
    "    ## Calculating overall accuracy of the validation set\n",
    "    model.eval()\n",
    "    total_len = 0\n",
    "    total_correct = 0\n",
    "    with torch.no_grad():\n",
    "        for x, y in val_loader:\n",
    "            x, y = x.to(device), y.to(device)\n",
    "            outputs = model(x)\n",
    "            correct_count = (torch.sum(torch.round(outputs)==y)).item()\n",
    "            total_len += len(y)\n",
    "            total_correct += correct_count\n",
    "    accuracy = (total_correct/total_len)*100\n",
    "    print(f\"Overall Accuracy of Regressor on Validation Split: {accuracy:.2f}%\")\n",
    "\n",
    "    total_len = 0\n",
    "    total_correct = 0\n",
    "    with torch.no_grad():\n",
    "        for x, y in train_loader:\n",
    "            x, y = x.to(device), y.to(device)\n",
    "            outputs = model(x)\n",
    "            correct_count = (torch.sum(torch.round(outputs)==y)).item()\n",
    "            total_len += len(y)\n",
    "            total_correct += correct_count\n",
    "    accuracy = (total_correct/total_len)*100\n",
    "    print(f\"Overall Accuracy of Regressor on Training Split: {accuracy:.2f}%\")\n",
    "else:\n",
    "    model.eval()\n",
    "    total_len = 0\n",
    "    total_correct = 0\n",
    "    with torch.no_grad():\n",
    "        for x, y in val_loader:\n",
    "            x, y = x.to(device), y.to(device)\n",
    "            outputs = model(x)\n",
    "            outputs = F.softmax(outputs, dim=-1)\n",
    "            outputs = torch.argmax(outputs, dim=1)\n",
    "            correct_count = (torch.sum(torch.round(outputs)==y)).item()\n",
    "            total_len += len(y)\n",
    "            total_correct += correct_count\n",
    "    accuracy = (total_correct/total_len)*100\n",
    "    print(f\"Overall Accuracy of Classifer on Validation Split: {accuracy:.2f}%\")\n",
    "\n",
    "    total_len = 0\n",
    "    total_correct = 0\n",
    "    with torch.no_grad():\n",
    "        for x, y in train_loader:\n",
    "            x, y = x.to(device), y.to(device)\n",
    "            outputs = model(x)\n",
    "            outputs = F.softmax(outputs, dim=-1)\n",
    "            outputs = torch.argmax(outputs, dim=1)\n",
    "            correct_count = (torch.sum(torch.round(outputs)==y)).item()\n",
    "            total_len += len(y)\n",
    "            total_correct += correct_count\n",
    "    accuracy = (total_correct/total_len)*100\n",
    "    print(f\"Overall Accuracy of Classifer on Training Split: {accuracy:.2f}%\")"
   ]
  }
 ],
 "metadata": {
  "kernelspec": {
   "display_name": "Python 3",
   "language": "python",
   "name": "python3"
  },
  "language_info": {
   "codemirror_mode": {
    "name": "ipython",
    "version": 3
   },
   "file_extension": ".py",
   "mimetype": "text/x-python",
   "name": "python",
   "nbconvert_exporter": "python",
   "pygments_lexer": "ipython3",
   "version": "3.12.3"
  }
 },
 "nbformat": 4,
 "nbformat_minor": 2
}
